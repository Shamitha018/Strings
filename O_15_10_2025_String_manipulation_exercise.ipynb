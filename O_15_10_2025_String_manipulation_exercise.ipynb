{
  "nbformat": 4,
  "nbformat_minor": 0,
  "metadata": {
    "colab": {
      "provenance": []
    },
    "kernelspec": {
      "name": "python3",
      "display_name": "Python 3"
    },
    "language_info": {
      "name": "python"
    }
  },
  "cells": [
    {
      "cell_type": "markdown",
      "source": [
        "Find the number of vowels in a string"
      ],
      "metadata": {
        "id": "g-3GKu2HI2La"
      }
    },
    {
      "cell_type": "code",
      "execution_count": null,
      "metadata": {
        "colab": {
          "base_uri": "https://localhost:8080/"
        },
        "id": "cBqgChtrG6Z-",
        "outputId": "58432c22-19d7-4688-a348-90776c4588fb"
      },
      "outputs": [
        {
          "output_type": "stream",
          "name": "stdout",
          "text": [
            "The number of vowels in the string 'hai how are you' is 7\n"
          ]
        }
      ],
      "source": [
        "str1='hai how are you'\n",
        "count = 0\n",
        "vows = ('a', 'e', 'i', 'o', 'u')\n",
        "for i in str1:\n",
        "  if i.lower() in vows:\n",
        "    count += 1\n",
        "\n",
        "print(f\"The number of vowels in the string '{str1}' is {count}\")"
      ]
    },
    {
      "cell_type": "markdown",
      "source": [
        "updating the string"
      ],
      "metadata": {
        "id": "bogYWrv0KTDx"
      }
    },
    {
      "cell_type": "code",
      "source": [
        "s1 = \"Shazam\"\n",
        "s2_lower_only = \"\"\n",
        "for i in s1:\n",
        "  s2_lower_only += i.lower()\n",
        "print(s1)\n",
        "print(s2_lower_only)"
      ],
      "metadata": {
        "colab": {
          "base_uri": "https://localhost:8080/"
        },
        "id": "URxFlNsRKUuJ",
        "outputId": "eb7e1854-e83a-46b5-f8f9-0459e2c589bc"
      },
      "execution_count": null,
      "outputs": [
        {
          "output_type": "stream",
          "name": "stdout",
          "text": [
            "Shazam\n",
            "shazam\n"
          ]
        }
      ]
    },
    {
      "cell_type": "markdown",
      "source": [
        "wherever a is applied replace with *"
      ],
      "metadata": {
        "id": "EDv-ccwuJXtc"
      }
    },
    {
      "cell_type": "code",
      "source": [
        "new = \"Ola ola ola ola\"\n",
        "s = \"\"\n",
        "for i in new:\n",
        "  if i == \"a\":\n",
        "    s += \"*\"\n",
        "  else:\n",
        "    s += i.lower()\n",
        "print(s)"
      ],
      "metadata": {
        "colab": {
          "base_uri": "https://localhost:8080/"
        },
        "id": "UgcI2GofJa8p",
        "outputId": "47b62adc-a59b-4917-c1cb-ae2f7fcb68fe"
      },
      "execution_count": null,
      "outputs": [
        {
          "output_type": "stream",
          "name": "stdout",
          "text": [
            "ol* ol* ol* ol*\n"
          ]
        }
      ]
    },
    {
      "cell_type": "markdown",
      "source": [
        "if vowels are repeated, print only unique vowels"
      ],
      "metadata": {
        "id": "KMbsxyQ8MOY4"
      }
    },
    {
      "cell_type": "code",
      "source": [
        "str1='hai how are you'\n",
        "unique_set = set()\n",
        "count = 0\n",
        "vows = ('a', 'e', 'i', 'o', 'u')\n",
        "for i in str1:\n",
        "  if i in vows:\n",
        "    unique_set.add(i)\n",
        "    count += 1\n",
        "\n",
        "print(f\"The number of unique vowels in the string '{str1}' is {len(unique_set)}\")"
      ],
      "metadata": {
        "colab": {
          "base_uri": "https://localhost:8080/"
        },
        "id": "ZUcwGODsMNnV",
        "outputId": "5e8f84ee-426e-4f36-cd82-2df7417c1b85"
      },
      "execution_count": null,
      "outputs": [
        {
          "output_type": "stream",
          "name": "stdout",
          "text": [
            "The number of unique vowels in the string 'hai how are you' is 5\n"
          ]
        }
      ]
    },
    {
      "cell_type": "markdown",
      "source": [
        "without sets"
      ],
      "metadata": {
        "id": "WLW9kCDpOzb1"
      }
    },
    {
      "cell_type": "code",
      "source": [
        "unique = ''\n",
        "for i in str1:\n",
        "  if i in vows and i not in unique:\n",
        "    unique += i\n",
        "print(len(unique))"
      ],
      "metadata": {
        "colab": {
          "base_uri": "https://localhost:8080/"
        },
        "id": "eMbTYAI0O0nC",
        "outputId": "085d5563-b214-4039-feda-5cc48fb331be"
      },
      "execution_count": null,
      "outputs": [
        {
          "output_type": "stream",
          "name": "stdout",
          "text": [
            "5\n"
          ]
        }
      ]
    },
    {
      "cell_type": "code",
      "source": [
        "str1[5] = \"H\"\n",
        "str1"
      ],
      "metadata": {
        "colab": {
          "base_uri": "https://localhost:8080/",
          "height": 158
        },
        "id": "VZc8prYsQAEk",
        "outputId": "f801252a-b551-4bb5-a0c0-aded4f1e85ce"
      },
      "execution_count": null,
      "outputs": [
        {
          "output_type": "error",
          "ename": "TypeError",
          "evalue": "'str' object does not support item assignment",
          "traceback": [
            "\u001b[0;31m---------------------------------------------------------------------------\u001b[0m",
            "\u001b[0;31mTypeError\u001b[0m                                 Traceback (most recent call last)",
            "\u001b[0;32m/tmp/ipython-input-2315456407.py\u001b[0m in \u001b[0;36m<cell line: 0>\u001b[0;34m()\u001b[0m\n\u001b[0;32m----> 1\u001b[0;31m \u001b[0mstr1\u001b[0m\u001b[0;34m[\u001b[0m\u001b[0;36m5\u001b[0m\u001b[0;34m]\u001b[0m \u001b[0;34m=\u001b[0m \u001b[0;34m\"H\"\u001b[0m\u001b[0;34m\u001b[0m\u001b[0;34m\u001b[0m\u001b[0m\n\u001b[0m\u001b[1;32m      2\u001b[0m \u001b[0mstr1\u001b[0m\u001b[0;34m\u001b[0m\u001b[0;34m\u001b[0m\u001b[0m\n",
            "\u001b[0;31mTypeError\u001b[0m: 'str' object does not support item assignment"
          ]
        }
      ]
    },
    {
      "cell_type": "markdown",
      "source": [
        "strings are immuatable using index[] function but they can be converted to lists or create new string and change string"
      ],
      "metadata": {
        "id": "RqB56kp2TXZY"
      }
    },
    {
      "cell_type": "markdown",
      "source": [
        "updating strings"
      ],
      "metadata": {
        "id": "vKe1Dn53Rdh-"
      }
    },
    {
      "cell_type": "code",
      "source": [
        "str2 = ''\n",
        "for i in range(len(str1)):\n",
        "  if str1[i] == 'a':\n",
        "    str2 += 'A'\n",
        "  else:\n",
        "    str2 += str1[i]\n",
        "str2"
      ],
      "metadata": {
        "colab": {
          "base_uri": "https://localhost:8080/",
          "height": 36
        },
        "id": "hyx1-WVqRfji",
        "outputId": "828e6de1-382a-4ee2-c058-2f38df819d50"
      },
      "execution_count": null,
      "outputs": [
        {
          "output_type": "execute_result",
          "data": {
            "text/plain": [
              "'hAi how Are you'"
            ],
            "application/vnd.google.colaboratory.intrinsic+json": {
              "type": "string"
            }
          },
          "metadata": {},
          "execution_count": 27
        }
      ]
    }
  ]
}