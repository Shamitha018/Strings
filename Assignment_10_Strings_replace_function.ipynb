{
  "nbformat": 4,
  "nbformat_minor": 0,
  "metadata": {
    "colab": {
      "provenance": [],
      "authorship_tag": "ABX9TyPRe3rrXsc8sF6pD/77xjxE",
      "include_colab_link": true
    },
    "kernelspec": {
      "name": "python3",
      "display_name": "Python 3"
    },
    "language_info": {
      "name": "python"
    }
  },
  "cells": [
    {
      "cell_type": "markdown",
      "metadata": {
        "id": "view-in-github",
        "colab_type": "text"
      },
      "source": [
        "<a href=\"https://colab.research.google.com/github/Shamitha018/Strings/blob/main/Assignment_10_Strings_replace_function.ipynb\" target=\"_parent\"><img src=\"https://colab.research.google.com/assets/colab-badge.svg\" alt=\"Open In Colab\"/></a>"
      ]
    },
    {
      "cell_type": "markdown",
      "source": [
        "#1. Reverse a string\n",
        "## str1='python'\n",
        "## s='nohtyp'"
      ],
      "metadata": {
        "id": "Fs2RIiDci9f9"
      }
    },
    {
      "cell_type": "code",
      "execution_count": 1,
      "metadata": {
        "colab": {
          "base_uri": "https://localhost:8080/"
        },
        "id": "w1kHGbYNi8a1",
        "outputId": "4e57d333-3940-49f9-e6f2-6655b68bedde"
      },
      "outputs": [
        {
          "output_type": "stream",
          "name": "stdout",
          "text": [
            "the reverse of 'python' is 'nohtyp'.\n"
          ]
        }
      ],
      "source": [
        "str1 = 'python'\n",
        "s=str1[::-1]\n",
        "print(f\"the reverse of '{str1}' is '{s}'.\")"
      ]
    },
    {
      "cell_type": "markdown",
      "source": [
        "#2. remove the spaces in a string\n",
        "## str1='hai how are you'\n",
        "## s='haihowareyou'"
      ],
      "metadata": {
        "id": "L7QdAQmHj407"
      }
    },
    {
      "cell_type": "code",
      "source": [
        "str1 = 'hai how are you'\n",
        "s = str1.replace(\" \", '')\n",
        "print(s)"
      ],
      "metadata": {
        "colab": {
          "base_uri": "https://localhost:8080/"
        },
        "id": "C8oFhkUYj4IQ",
        "outputId": "3e24a98c-916b-4f07-d0b3-e752b4d9c754"
      },
      "execution_count": 8,
      "outputs": [
        {
          "output_type": "stream",
          "name": "stdout",
          "text": [
            "haihowareyou\n"
          ]
        }
      ]
    },
    {
      "cell_type": "markdown",
      "source": [
        "#3. remove digits from string\n",
        "## str1='hai123hello435'\n",
        "## s='haihello'"
      ],
      "metadata": {
        "id": "Jnmq6wy3lCSS"
      }
    },
    {
      "cell_type": "code",
      "source": [
        "import string\n",
        "s=''\n",
        "str1 = \"hai123hello435\"\n",
        "digits = string.digits\n",
        "for i in range(len(str1)):\n",
        "  if str1[i] not in digits:\n",
        "    s += str1[i]\n",
        "\n",
        "print(s)"
      ],
      "metadata": {
        "colab": {
          "base_uri": "https://localhost:8080/"
        },
        "id": "XpfYUXPTlFS6",
        "outputId": "27f67623-2daf-4232-a8da-6e1c304fac94"
      },
      "execution_count": 18,
      "outputs": [
        {
          "output_type": "stream",
          "name": "stdout",
          "text": [
            "haihello\n"
          ]
        }
      ]
    },
    {
      "cell_type": "markdown",
      "source": [
        "#4.replace\n",
        "##str1='banana'\n",
        "##s='b@n@n@'"
      ],
      "metadata": {
        "id": "AhnU22Wty6dt"
      }
    },
    {
      "cell_type": "code",
      "source": [
        "str1 = 'banana'\n",
        "s = str1.replace('a', '@')\n",
        "s"
      ],
      "metadata": {
        "colab": {
          "base_uri": "https://localhost:8080/",
          "height": 36
        },
        "id": "DHPIjI2gy6D4",
        "outputId": "fcbc93c7-df2e-4fa6-9cf9-a1d4ebee701b"
      },
      "execution_count": 12,
      "outputs": [
        {
          "output_type": "execute_result",
          "data": {
            "text/plain": [
              "'b@n@n@'"
            ],
            "application/vnd.google.colaboratory.intrinsic+json": {
              "type": "string"
            }
          },
          "metadata": {},
          "execution_count": 12
        }
      ]
    },
    {
      "cell_type": "markdown",
      "source": [
        "#5. replace vowels with '*'\n",
        "## str1 = 'apple'\n",
        "## s = '*ppl*'"
      ],
      "metadata": {
        "id": "mcoBGjgWzXhM"
      }
    },
    {
      "cell_type": "code",
      "source": [
        "str1 = 'applE'\n",
        "j = str1.lower()\n",
        "s = j.replace('a','*').replace('e','*').replace('i','*').replace('o','*').replace('u', '*')\n",
        "s"
      ],
      "metadata": {
        "colab": {
          "base_uri": "https://localhost:8080/",
          "height": 36
        },
        "id": "DQ4ixqQg1SeE",
        "outputId": "78f05d92-6cfd-4f15-bbbe-5b25dbee1d32"
      },
      "execution_count": 16,
      "outputs": [
        {
          "output_type": "execute_result",
          "data": {
            "text/plain": [
              "'*ppl*'"
            ],
            "application/vnd.google.colaboratory.intrinsic+json": {
              "type": "string"
            }
          },
          "metadata": {},
          "execution_count": 16
        }
      ]
    },
    {
      "cell_type": "markdown",
      "source": [
        "#6. convert string to uppercase\n",
        "## str1 = 'hello world'\n",
        "## s = 'HELLO WORLD'"
      ],
      "metadata": {
        "id": "PP6Zn9El2t_f"
      }
    },
    {
      "cell_type": "code",
      "source": [
        "str1 = 'hello world'\n",
        "s = str1.upper()\n",
        "s"
      ],
      "metadata": {
        "colab": {
          "base_uri": "https://localhost:8080/",
          "height": 36
        },
        "id": "aScpgz_L2xnr",
        "outputId": "ed8c70f8-8d1b-4483-c775-b3e4bf16da98"
      },
      "execution_count": 26,
      "outputs": [
        {
          "output_type": "execute_result",
          "data": {
            "text/plain": [
              "'HELLO WORLD'"
            ],
            "application/vnd.google.colaboratory.intrinsic+json": {
              "type": "string"
            }
          },
          "metadata": {},
          "execution_count": 26
        }
      ]
    },
    {
      "cell_type": "markdown",
      "source": [
        "#7. count the number of vowels in a string\n",
        "##str1 = 'education'\n",
        "##s = 5"
      ],
      "metadata": {
        "id": "Vnc_W7MD0JOR"
      }
    },
    {
      "cell_type": "code",
      "source": [
        "str1 = 'education'\n",
        "s = 0\n",
        "for i in str1:\n",
        "  if i in \"aeiouAEIOU\":\n",
        "    s += 1\n",
        "print(s)"
      ],
      "metadata": {
        "colab": {
          "base_uri": "https://localhost:8080/"
        },
        "id": "WvR7aO3814qo",
        "outputId": "f3849712-b2c4-4a5d-9f84-3fce278e0966"
      },
      "execution_count": 25,
      "outputs": [
        {
          "output_type": "stream",
          "name": "stdout",
          "text": [
            "5\n"
          ]
        }
      ]
    },
    {
      "cell_type": "code",
      "source": [
        "str1 = \"education\"\n",
        "s = [i for i in str1 if i in \"aeiouAEIOU\" ] #list comprehension\n",
        "print(f\"vowels in '{str1}' are {s}, total vowels are : {len(s)}\")"
      ],
      "metadata": {
        "colab": {
          "base_uri": "https://localhost:8080/"
        },
        "id": "O9TMbMhBzXJh",
        "outputId": "421b73c7-5b62-41b1-b1c3-7296a996d6f0"
      },
      "execution_count": 24,
      "outputs": [
        {
          "output_type": "stream",
          "name": "stdout",
          "text": [
            "vowels in 'education' are ['e', 'u', 'a', 'i', 'o'], total vowels are : 5\n"
          ]
        }
      ]
    },
    {
      "cell_type": "markdown",
      "source": [
        "#8. check if a string is a palindrome\n",
        "##str1 = 'madam'\n",
        "## s = True"
      ],
      "metadata": {
        "id": "Ln_7_p4O296-"
      }
    },
    {
      "cell_type": "code",
      "source": [
        "str1 = 'madam'\n",
        "if str1[::-1] == str1[::]:\n",
        "  print(True)"
      ],
      "metadata": {
        "colab": {
          "base_uri": "https://localhost:8080/"
        },
        "id": "B5a8NYd_3A9S",
        "outputId": "52a21355-2e57-4ee6-a1ed-d3f5653ba9fa"
      },
      "execution_count": 28,
      "outputs": [
        {
          "output_type": "stream",
          "name": "stdout",
          "text": [
            "True\n"
          ]
        }
      ]
    },
    {
      "cell_type": "markdown",
      "source": [
        "#9. remove all special characters from a string\n",
        "## str1 = \"he@llo#wo$rld!\"\n",
        "## s = 'helloworld'"
      ],
      "metadata": {
        "id": "J1Z2ICi63ukp"
      }
    },
    {
      "cell_type": "code",
      "source": [
        "import string\n",
        "str1 = \"he@llo#wo$rld!\"\n",
        "s = ''\n",
        "for i in str1:\n",
        "  if i not in string.punctuation:\n",
        "    s += i\n",
        "s"
      ],
      "metadata": {
        "colab": {
          "base_uri": "https://localhost:8080/",
          "height": 36
        },
        "id": "wSvw0BjH32Cg",
        "outputId": "715b49b5-7712-419e-94a8-afa4c5b6bf92"
      },
      "execution_count": 29,
      "outputs": [
        {
          "output_type": "execute_result",
          "data": {
            "text/plain": [
              "'helloworld'"
            ],
            "application/vnd.google.colaboratory.intrinsic+json": {
              "type": "string"
            }
          },
          "metadata": {},
          "execution_count": 29
        }
      ]
    },
    {
      "cell_type": "markdown",
      "source": [
        "#10. replace spaces with underscores\n",
        "## str1 = 'machine learning is fun'\n",
        "## s = 'machine_learning_is_fun'"
      ],
      "metadata": {
        "id": "3Q0E5tih4aJa"
      }
    },
    {
      "cell_type": "code",
      "source": [
        "str1 = \"machine learning is fun\"\n",
        "s = str1.replace(' ', '_')\n",
        "s"
      ],
      "metadata": {
        "colab": {
          "base_uri": "https://localhost:8080/",
          "height": 36
        },
        "id": "LnbGRPQH4bbG",
        "outputId": "a361721a-bcda-4509-eb2e-5ecf031dc738"
      },
      "execution_count": 31,
      "outputs": [
        {
          "output_type": "execute_result",
          "data": {
            "text/plain": [
              "'machine_learning_is_fun'"
            ],
            "application/vnd.google.colaboratory.intrinsic+json": {
              "type": "string"
            }
          },
          "metadata": {},
          "execution_count": 31
        }
      ]
    }
  ]
}