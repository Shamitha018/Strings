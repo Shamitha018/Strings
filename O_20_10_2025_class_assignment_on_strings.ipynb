{
  "nbformat": 4,
  "nbformat_minor": 0,
  "metadata": {
    "colab": {
      "provenance": [],
      "authorship_tag": "ABX9TyNJRWZPTNwHCpfvapESingV",
      "include_colab_link": true
    },
    "kernelspec": {
      "name": "python3",
      "display_name": "Python 3"
    },
    "language_info": {
      "name": "python"
    }
  },
  "cells": [
    {
      "cell_type": "markdown",
      "metadata": {
        "id": "view-in-github",
        "colab_type": "text"
      },
      "source": [
        "<a href=\"https://colab.research.google.com/github/Shamitha018/Strings/blob/main/O_20_10_2025_class_assignment_on_strings.ipynb\" target=\"_parent\"><img src=\"https://colab.research.google.com/assets/colab-badge.svg\" alt=\"Open In Colab\"/></a>"
      ]
    },
    {
      "cell_type": "markdown",
      "source": [
        "# 1. Write a program that asks the user to enter a string. The program should then print the following:\n",
        "(a) The total number of characters in the string </br>\n"
      ],
      "metadata": {
        "id": "sp4CdWBaCkrV"
      }
    },
    {
      "cell_type": "code",
      "execution_count": null,
      "metadata": {
        "colab": {
          "base_uri": "https://localhost:8080/"
        },
        "id": "Anr4AHy9CdyC",
        "outputId": "1b5f3626-8590-4229-c3ad-457b7ef8f64c"
      },
      "outputs": [
        {
          "output_type": "stream",
          "name": "stdout",
          "text": [
            "Enter a string: ferrari\n",
            "The total number of characters in the string is 7\n"
          ]
        }
      ],
      "source": [
        "thread = input(\"Enter a string: \")\n",
        "a = len(thread)\n",
        "print(f\"The total number of characters in the string is {a}\")"
      ]
    },
    {
      "cell_type": "markdown",
      "source": [
        "(b) The string repeated 10 times</br>\n"
      ],
      "metadata": {
        "id": "aeyHA_B1isJl"
      }
    },
    {
      "cell_type": "code",
      "source": [
        "print(f\" The string repeated 10 times is '{(thread+' ') * 10}'\")"
      ],
      "metadata": {
        "colab": {
          "base_uri": "https://localhost:8080/"
        },
        "id": "i9OVGifuDiDY",
        "outputId": "f5a471a5-b465-460d-b065-2638bff8799a"
      },
      "execution_count": null,
      "outputs": [
        {
          "output_type": "stream",
          "name": "stdout",
          "text": [
            " The string repeated 10 times is 'ferrari ferrari ferrari ferrari ferrari ferrari ferrari ferrari ferrari ferrari '\n"
          ]
        }
      ]
    },
    {
      "cell_type": "markdown",
      "source": [
        "(c) The first character of the string (remember that string indices start at 0) </br>\n"
      ],
      "metadata": {
        "id": "W6jmJULUiuuo"
      }
    },
    {
      "cell_type": "code",
      "source": [
        "print(f\"The first character of the string '{thread}' is '{thread[0]}'.\")"
      ],
      "metadata": {
        "colab": {
          "base_uri": "https://localhost:8080/"
        },
        "id": "sbIjCjp8EM8y",
        "outputId": "3df7dc72-518b-4c73-ecf4-09cc764a9420"
      },
      "execution_count": null,
      "outputs": [
        {
          "output_type": "stream",
          "name": "stdout",
          "text": [
            "The first character of the string 'ferrari' is 'f'.\n"
          ]
        }
      ]
    },
    {
      "cell_type": "markdown",
      "source": [
        "(d) The first three characters of the string </br>\n"
      ],
      "metadata": {
        "id": "DJp600isixDv"
      }
    },
    {
      "cell_type": "code",
      "source": [
        "print(f\"The first 3 characters of the string '{thread}' are {list(thread[:3])}\")"
      ],
      "metadata": {
        "colab": {
          "base_uri": "https://localhost:8080/"
        },
        "id": "y4KB8p1sEZZQ",
        "outputId": "6b7011dc-887e-4a57-b6fe-4095d431c415"
      },
      "execution_count": null,
      "outputs": [
        {
          "output_type": "stream",
          "name": "stdout",
          "text": [
            "The first 3 characters of the string 'ferrari' are ['f', 'e', 'r']\n"
          ]
        }
      ]
    },
    {
      "cell_type": "markdown",
      "source": [
        "(e) The last three characters of the string</br>\n"
      ],
      "metadata": {
        "id": "qhdiohW-i2UU"
      }
    },
    {
      "cell_type": "code",
      "source": [
        "print(f\"The last 3 characters of the string '{thread}' are {list(thread[len(thread)-1: len(thread)-4:-1])}\")"
      ],
      "metadata": {
        "colab": {
          "base_uri": "https://localhost:8080/"
        },
        "id": "6WD-a8lVEw90",
        "outputId": "77f4f8a4-a1d3-4d37-8e3b-cd1346570061"
      },
      "execution_count": null,
      "outputs": [
        {
          "output_type": "stream",
          "name": "stdout",
          "text": [
            "The last 3 characters of the string 'ferrari' are ['i', 'r', 'a']\n"
          ]
        }
      ]
    },
    {
      "cell_type": "markdown",
      "source": [
        "(f) The string backwards</br>\n"
      ],
      "metadata": {
        "id": "9xBlm70yi5uN"
      }
    },
    {
      "cell_type": "code",
      "source": [
        "print(f\"The reverse of the string '{thread}' is '{thread[::-1]}'.\")"
      ],
      "metadata": {
        "colab": {
          "base_uri": "https://localhost:8080/"
        },
        "id": "o6UxiTE7Ff0m",
        "outputId": "c83d5920-171c-42f5-dd0d-7a1964d3e0f1"
      },
      "execution_count": null,
      "outputs": [
        {
          "output_type": "stream",
          "name": "stdout",
          "text": [
            "The reverse of the string 'ferrari' is 'irarref'.\n"
          ]
        }
      ]
    },
    {
      "cell_type": "markdown",
      "source": [
        "(g) The seventh character of the string if the string is long enough and a message otherwise </br>\n"
      ],
      "metadata": {
        "id": "fRvpRPRMi7yd"
      }
    },
    {
      "cell_type": "code",
      "source": [
        "if len(thread) <= 7:\n",
        "  print(thread[len(thread)-1])\n",
        "else:\n",
        "  print(\"string is not long enough\")"
      ],
      "metadata": {
        "colab": {
          "base_uri": "https://localhost:8080/"
        },
        "id": "oU74sXlIFvBU",
        "outputId": "21d7872b-c0fa-4b2e-ac60-34889138365f"
      },
      "execution_count": null,
      "outputs": [
        {
          "output_type": "stream",
          "name": "stdout",
          "text": [
            "i\n"
          ]
        }
      ]
    },
    {
      "cell_type": "markdown",
      "source": [
        "(h) The string with its first and last characters removed </br>\n"
      ],
      "metadata": {
        "id": "qbE3KMmQi_-F"
      }
    },
    {
      "cell_type": "code",
      "source": [
        "new =''\n",
        "for i in range(len(thread)):\n",
        "  if thread[i] == thread[0] or thread[i] == thread[len(thread)-1]:\n",
        "    continue\n",
        "  else:\n",
        "    new += thread[i]\n",
        "new"
      ],
      "metadata": {
        "colab": {
          "base_uri": "https://localhost:8080/",
          "height": 36
        },
        "id": "CQMgYqeXHx9C",
        "outputId": "a184f448-5eb2-47af-cdec-89b3591e4906"
      },
      "execution_count": null,
      "outputs": [
        {
          "output_type": "execute_result",
          "data": {
            "text/plain": [
              "'errar'"
            ],
            "application/vnd.google.colaboratory.intrinsic+json": {
              "type": "string"
            }
          },
          "metadata": {},
          "execution_count": 40
        }
      ]
    },
    {
      "cell_type": "markdown",
      "source": [
        "(i) The string in all caps</br>"
      ],
      "metadata": {
        "id": "49IkU2vjjCsc"
      }
    },
    {
      "cell_type": "code",
      "source": [
        "thread.upper()"
      ],
      "metadata": {
        "colab": {
          "base_uri": "https://localhost:8080/",
          "height": 36
        },
        "id": "KnPgSQ2NJJ-u",
        "outputId": "ad3838a5-57c6-45b6-8a1f-b2c7227d9f14"
      },
      "execution_count": null,
      "outputs": [
        {
          "output_type": "execute_result",
          "data": {
            "text/plain": [
              "'FERRARI'"
            ],
            "application/vnd.google.colaboratory.intrinsic+json": {
              "type": "string"
            }
          },
          "metadata": {},
          "execution_count": 41
        }
      ]
    },
    {
      "cell_type": "markdown",
      "source": [
        "(j) The string with every a replaced with an e</br>"
      ],
      "metadata": {
        "id": "PrIHWUwHjEXk"
      }
    },
    {
      "cell_type": "code",
      "source": [
        "thread.replace('a', 'e')"
      ],
      "metadata": {
        "colab": {
          "base_uri": "https://localhost:8080/",
          "height": 36
        },
        "id": "2XsqvLdSJQkw",
        "outputId": "933b80f9-275d-458c-8d53-669b999125ec"
      },
      "execution_count": null,
      "outputs": [
        {
          "output_type": "execute_result",
          "data": {
            "text/plain": [
              "'ferreri'"
            ],
            "application/vnd.google.colaboratory.intrinsic+json": {
              "type": "string"
            }
          },
          "metadata": {},
          "execution_count": 42
        }
      ]
    },
    {
      "cell_type": "markdown",
      "source": [
        "#2. A simple way to estimate the number of words in a string is to count the number of spaces in the string. Write a program that asks the user for a string and returns an estimate of how many words are in the string.\n",
        "Tip: You need to count the number of words using spaces"
      ],
      "metadata": {
        "id": "OpqK8Ei8JZHB"
      }
    },
    {
      "cell_type": "code",
      "source": [
        "sentence = input(\"Enter a sentence: \")\n",
        "spaces = sentence.count(\" \")\n",
        "print(f\"The total number of words in the sentence are {spaces+1}\")"
      ],
      "metadata": {
        "colab": {
          "base_uri": "https://localhost:8080/"
        },
        "id": "m5vtDtwWJbkD",
        "outputId": "1bdad5f5-e047-4991-ce7f-ec6715392093"
      },
      "execution_count": null,
      "outputs": [
        {
          "output_type": "stream",
          "name": "stdout",
          "text": [
            "Enter a sentence: today is 21st october\n",
            "The total number of words in the sentence are 4\n"
          ]
        }
      ]
    },
    {
      "cell_type": "markdown",
      "source": [
        "#3.Write a program that asks the user to enter a word and prints out whether that word contains any vowels."
      ],
      "metadata": {
        "id": "AJ8fKkMYle9J"
      }
    },
    {
      "cell_type": "code",
      "source": [
        "word = input(\"Enter a word: \")\n",
        "count = 0\n",
        "for i in word:\n",
        "  if i in 'aeiouAEIOU':\n",
        "    count += 1\n",
        "print(f\"The word '{word}' contains {count} vowel(s) in it. \")"
      ],
      "metadata": {
        "colab": {
          "base_uri": "https://localhost:8080/"
        },
        "id": "FKvJ-vXLlhSa",
        "outputId": "86eeba02-e0f6-48a7-b792-e1908ddecf58"
      },
      "execution_count": null,
      "outputs": [
        {
          "output_type": "stream",
          "name": "stdout",
          "text": [
            "Enter a word: guru pradakshina\n",
            "The word 'guru pradakshina' contains 6 vowel(s) in it.\n"
          ]
        }
      ]
    },
    {
      "cell_type": "markdown",
      "source": [
        "#4. Improvise above code by providing unique vowels"
      ],
      "metadata": {
        "id": "tk2VOGxdq_Cc"
      }
    },
    {
      "cell_type": "markdown",
      "source": [
        "method 1: using sets concept"
      ],
      "metadata": {
        "id": "-_Nf-s4a-w2R"
      }
    },
    {
      "cell_type": "code",
      "source": [
        "word = input(\"Enter a word: \")\n",
        "count = set()\n",
        "for i in word:\n",
        "  if i in 'aeiouAEIOU':\n",
        "    count.add(i)\n",
        "print(f\"The word '{word}' contains {len(count)} unique vowel(s) in it and they are {count}\")"
      ],
      "metadata": {
        "colab": {
          "base_uri": "https://localhost:8080/"
        },
        "id": "3ckisY6Zq-Oo",
        "outputId": "1f30e86c-2435-48f3-ac82-37f614a1cfcc"
      },
      "execution_count": null,
      "outputs": [
        {
          "output_type": "stream",
          "name": "stdout",
          "text": [
            "Enter a word: guru pradakshina\n",
            "The word 'guru pradakshina' contains 3 unique vowel(s) in it and they are {'a', 'i', 'u'}\n"
          ]
        }
      ]
    },
    {
      "cell_type": "markdown",
      "source": [
        "method 2: without sets concept"
      ],
      "metadata": {
        "id": "ICVr9DhL-zWI"
      }
    },
    {
      "cell_type": "code",
      "source": [
        "word = input(\"Enter a word: \")\n",
        "unique = ''\n",
        "for i in word:\n",
        "  if i in 'aeiouAEIOU' and i not in unique:\n",
        "    unique += i\n",
        "print(f\"The word '{word}' contains {len(unique)} unique vowel(s) in it and they are {list(unique)}\")"
      ],
      "metadata": {
        "colab": {
          "base_uri": "https://localhost:8080/"
        },
        "id": "nMexHOHy-2cM",
        "outputId": "81d1516f-09ee-45e6-e502-9890aeeb61d8"
      },
      "execution_count": 36,
      "outputs": [
        {
          "output_type": "stream",
          "name": "stdout",
          "text": [
            "Enter a word: guru pradakshina\n",
            "The word 'guru pradakshina' contains 3 unique vowel(s) in it and they are ['u', 'a', 'i']\n"
          ]
        }
      ]
    },
    {
      "cell_type": "markdown",
      "source": [
        "#5. Write a program that asks the user to enter a string. The program should create a new string called new_string from the user’s string such that the second character is changed to an asterisk andthree exclamation points are attached to the end of the string. Finally, print new_string.\n",
        "Typical output is shown below:\n",
        "Enter your string: Qbert\n",
        "Output: Q*ert!!!"
      ],
      "metadata": {
        "id": "BWIwhVIz9eAL"
      }
    },
    {
      "cell_type": "code",
      "source": [
        "st1 = input(\"Enter a string: \")\n",
        "new_string = ''\n",
        "for o in range(len(st1)):\n",
        "  if o == 1:\n",
        "    new_string += '*'\n",
        "  else:\n",
        "    new_string += st1[o]\n",
        "\n",
        "new_string+'!!!'"
      ],
      "metadata": {
        "id": "ukRWT_dK9fj3",
        "colab": {
          "base_uri": "https://localhost:8080/",
          "height": 53
        },
        "outputId": "315c251b-45f1-4644-cc48-717336b2b61a"
      },
      "execution_count": 9,
      "outputs": [
        {
          "name": "stdout",
          "output_type": "stream",
          "text": [
            "Enter a string: Qbert\n"
          ]
        },
        {
          "output_type": "execute_result",
          "data": {
            "text/plain": [
              "'Q*ert!!!'"
            ],
            "application/vnd.google.colaboratory.intrinsic+json": {
              "type": "string"
            }
          },
          "metadata": {},
          "execution_count": 9
        }
      ]
    },
    {
      "cell_type": "markdown",
      "source": [
        "#6. Write a program that asks the user to enter a word and determines whether the word is apalindrome or not.\n",
        "A palindrome is a word that reads the same backwards as *forwards*"
      ],
      "metadata": {
        "id": "9LxiBgkTo5Dd"
      }
    },
    {
      "cell_type": "code",
      "source": [
        "word = input(\"Enter a word: \")\n",
        "if word[::] == word[::-1]:\n",
        "  print(\"It is a Palindrome\")\n",
        "else:\n",
        "  print(\"It is not a Palindrome\")"
      ],
      "metadata": {
        "colab": {
          "base_uri": "https://localhost:8080/"
        },
        "id": "EY9SzNX-o60c",
        "outputId": "78eba2c0-091b-4c2e-d879-d93ba6aaddda"
      },
      "execution_count": null,
      "outputs": [
        {
          "output_type": "stream",
          "name": "stdout",
          "text": [
            "Enter a word: awa\n",
            "It is a Palindrome\n"
          ]
        }
      ]
    },
    {
      "cell_type": "markdown",
      "source": [
        "#7. At a certain school, student email addresses end with @student.college.edu, while professor\n",
        "email addresses end with @prof.college.edu. Write a program that first asks the user how many\n",
        "email addresses they will be entering, and then has the user enter those addresses. After all the\n",
        "email addresses are entered, the program should print out a message indicating either that all the\n",
        "addresses are student addresses or that there were some professor addresses entered."
      ],
      "metadata": {
        "id": "1Q_mCORVmdjc"
      }
    },
    {
      "cell_type": "markdown",
      "source": [
        "method 1: using 'split()' function in strings"
      ],
      "metadata": {
        "id": "HSgMJ2b03Upo"
      }
    },
    {
      "cell_type": "code",
      "source": [
        "count_of_email_addresses = int(input(\"How many email addresses will you be entering? : \"))\n",
        "email_addresses = []\n",
        "prof = 0\n",
        "student = 0\n",
        "for i in range(count_of_email_addresses):\n",
        "  email_addresses.append(input(\"Enter the email addresses: \"))\n",
        "  mail_splits = email_addresses[i].split('@')\n",
        "  if mail_splits[1] == 'student.college.edu':\n",
        "    student += 1\n",
        "  else:\n",
        "    prof += 1\n",
        "if student == count_of_email_addresses:\n",
        "  print('all addresses are student addresses')\n",
        "else:\n",
        "  print('There were some professor addresses entered as well')"
      ],
      "metadata": {
        "colab": {
          "base_uri": "https://localhost:8080/"
        },
        "id": "Xu8F7wxqmigA",
        "outputId": "84cebc4d-c45c-4b65-a819-afde573757aa"
      },
      "execution_count": 29,
      "outputs": [
        {
          "output_type": "stream",
          "name": "stdout",
          "text": [
            "How many email addresses will you be entering? : 2\n",
            "Enter the email addresses: sham@student.college.edu\n",
            "Enter the email addresses: las@student.college.edu\n",
            "all addresses are student addresses\n"
          ]
        }
      ]
    },
    {
      "cell_type": "markdown",
      "source": [
        "method 2: using 'endswith()' function in strings"
      ],
      "metadata": {
        "id": "OVUO8sRN3ZYK"
      }
    },
    {
      "cell_type": "code",
      "source": [
        "count_of_email_addresses = int(input(\"How many email addresses will you be entering? : \"))\n",
        "email_addresses = []\n",
        "prof = 0\n",
        "student = 0\n",
        "for i in range(count_of_email_addresses):\n",
        "  email_addresses.append(input(\"Enter the email addresses: \"))\n",
        "  if email_addresses[i].endswith('student.college.edu'):\n",
        "    student += 1\n",
        "  else:\n",
        "    prof += 1\n",
        "if student == count_of_email_addresses:\n",
        "  print('all addresses are student addresses')\n",
        "else:\n",
        "  print('There were some professor addresses entered as well')"
      ],
      "metadata": {
        "colab": {
          "base_uri": "https://localhost:8080/"
        },
        "id": "HX-o7HLZ037f",
        "outputId": "70a87165-d0fd-421e-e60a-59a601238001"
      },
      "execution_count": 30,
      "outputs": [
        {
          "output_type": "stream",
          "name": "stdout",
          "text": [
            "How many email addresses will you be entering? : 5\n",
            "Enter the email addresses: lavanya@student.college.edu\n",
            "Enter the email addresses: kumar@student.college.edu\n",
            "Enter the email addresses: nagalaxmi@student.college.edu\n",
            "Enter the email addresses: purna@student.college.edu\n",
            "Enter the email addresses: pavan@student.college.edu\n",
            "all addresses are student addresses\n"
          ]
        }
      ]
    },
    {
      "cell_type": "markdown",
      "source": [
        "#8. Write a program that asks the user to enter a string, then prints out each letter of the string doubled and on a separate line.\n",
        "For instance,\n",
        "if the user entered HEY,\n",
        "the output would be </br>\n",
        "HH </br>\n",
        "EE</br>\n",
        "YY</br>"
      ],
      "metadata": {
        "id": "ahXoVTwB3oFI"
      }
    },
    {
      "cell_type": "code",
      "source": [
        "s1 = input(\"Enter a string: \")\n",
        "for i in s1:\n",
        "  print(i+i)"
      ],
      "metadata": {
        "colab": {
          "base_uri": "https://localhost:8080/"
        },
        "id": "hj857HpN3wf_",
        "outputId": "7142269f-967a-4681-b9e4-9246e410f608"
      },
      "execution_count": 32,
      "outputs": [
        {
          "output_type": "stream",
          "name": "stdout",
          "text": [
            "Enter a string: hey\n",
            "hh\n",
            "ee\n",
            "yy\n"
          ]
        }
      ]
    },
    {
      "cell_type": "markdown",
      "source": [
        "#9.Write a program that asks the user to enter a word that contains the letter a. The program should then print the following two lines: On the first line should be the part of the string up to and including the the first a, and on the second line should be the rest of the string.\n",
        "Sample output is shown below:\n",
        "Enter a word: buffalo\n",
        "buffa\n",
        "lo"
      ],
      "metadata": {
        "id": "zCmet9fcqtFd"
      }
    },
    {
      "cell_type": "code",
      "source": [
        "word1 = input(\"Enter a word with 'a': \")\n",
        "a_index = word1.find('a')\n",
        "print(word1[:a_index+1])\n",
        "print(word1[a_index+1:])"
      ],
      "metadata": {
        "colab": {
          "base_uri": "https://localhost:8080/"
        },
        "id": "9OqdWPevqy_E",
        "outputId": "1609aaaa-af80-4cca-f266-24ca7cdaeae2"
      },
      "execution_count": 5,
      "outputs": [
        {
          "output_type": "stream",
          "name": "stdout",
          "text": [
            "Enter a word with 'a': buffalo\n",
            "buffa\n",
            "lo\n"
          ]
        }
      ]
    },
    {
      "cell_type": "markdown",
      "source": [
        "#10. Write a program that asks the user to enter a word and then capitalizes every other letter of that\n",
        "word.\n",
        "So if the user enters rhinoceros,\n",
        "the program should print rHiNoCeRoS."
      ],
      "metadata": {
        "id": "ujgXwv0Spxnc"
      }
    },
    {
      "cell_type": "code",
      "source": [
        "cap_word = input(\"Enter a word: \")\n",
        "new = ''\n",
        "for i in range(len(cap_word)):\n",
        "  if i % 2 != 0:\n",
        "    new += cap_word[i].upper()\n",
        "  else:\n",
        "    new += cap_word[i]\n",
        "new"
      ],
      "metadata": {
        "colab": {
          "base_uri": "https://localhost:8080/",
          "height": 53
        },
        "id": "KO0OjZ0Kp1h9",
        "outputId": "8c4e27d9-a466-4d92-ba81-fc1c5dd3b1a3"
      },
      "execution_count": null,
      "outputs": [
        {
          "name": "stdout",
          "output_type": "stream",
          "text": [
            "Enter a word: rhinoceros\n"
          ]
        },
        {
          "output_type": "execute_result",
          "data": {
            "text/plain": [
              "'rHiNoCeRoS'"
            ],
            "application/vnd.google.colaboratory.intrinsic+json": {
              "type": "string"
            }
          },
          "metadata": {},
          "execution_count": 6
        }
      ]
    },
    {
      "cell_type": "markdown",
      "source": [
        "#11. Write a program that asks the user to enter two strings of the same length. The program should then check to see if the strings are of the same length. If they are not, the program should print an appropriate message and exit. If they are of the same length, the program should alternate the characters of the two strings. For example, if the user enters abcde and ABCDE the program should print out AaBbCcDdEe."
      ],
      "metadata": {
        "id": "p4_yVrtevA5W"
      }
    },
    {
      "cell_type": "code",
      "source": [
        "print(\"Enter 2 strings for same length\")\n",
        "string1 = input(\"Enter 1st string: \")\n",
        "string2 = input(\"Enter 2nd string: \")\n",
        "new_str = ''\n",
        "if len(string1) == len(string2):\n",
        "  for i in range(len(string1)):\n",
        "    new_str += string2[i]\n",
        "    new_str += string1[i]\n",
        "print(f\"The new string with alternate characters of 2 strings is '{new_str}'\")"
      ],
      "metadata": {
        "colab": {
          "base_uri": "https://localhost:8080/"
        },
        "id": "uHqE5KMkvJNy",
        "outputId": "1cf73f60-fb9a-41b3-85a3-23230168c357"
      },
      "execution_count": 7,
      "outputs": [
        {
          "output_type": "stream",
          "name": "stdout",
          "text": [
            "Enter 2 strings for same length\n",
            "Enter 1st string: abcde\n",
            "Enter 2nd string: ABCDE\n",
            "The new string with alternate characters of 2 strings is 'AaBbCcDdEe'\n"
          ]
        }
      ]
    },
    {
      "cell_type": "markdown",
      "source": [
        "#12. Write a program that asks the user to enter their name in lowercase and then capitalizes the first\n",
        "letter of each word of their name."
      ],
      "metadata": {
        "id": "5-AkIS5PplJY"
      }
    },
    {
      "cell_type": "code",
      "source": [
        "full_name = input(\"Enter your full name in lower case: \")\n",
        "full_name.title()"
      ],
      "metadata": {
        "colab": {
          "base_uri": "https://localhost:8080/",
          "height": 53
        },
        "id": "Oci8ADiCqroT",
        "outputId": "1c1803d8-300d-41b8-918a-64fb4aa05696"
      },
      "execution_count": null,
      "outputs": [
        {
          "name": "stdout",
          "output_type": "stream",
          "text": [
            "Enter your full name in lower case: lasya priya kotturi\n"
          ]
        },
        {
          "output_type": "execute_result",
          "data": {
            "text/plain": [
              "'Lasya Priya Kotturi'"
            ],
            "application/vnd.google.colaboratory.intrinsic+json": {
              "type": "string"
            }
          },
          "metadata": {},
          "execution_count": 10
        }
      ]
    },
    {
      "cell_type": "markdown",
      "source": [
        "#13. The goal of this exercise is to see if you can mimic the behavior of the in operator and the count and index methods using only variables, for loops, and if statements.\n",
        "(a) Without using the in operator, write a program that asks the user for a string and a letter\n",
        "and prints out whether or not the letter appears in the string.\n"
      ],
      "metadata": {
        "id": "Cnhq5Vzjxi-I"
      }
    },
    {
      "cell_type": "code",
      "source": [
        "user_string = input(\"Enter a string : \")\n",
        "letter = input(\"Enter a character/ letter: \")\n",
        "flag = False\n",
        "for j in user_string:\n",
        "  if j == letter:\n",
        "    flag = True\n",
        "\n",
        "if flag == True:\n",
        "  print(f\"The letter '{letter}'appears in the string '{user_string}'.\")"
      ],
      "metadata": {
        "colab": {
          "base_uri": "https://localhost:8080/"
        },
        "id": "JcSUC_Qrxntj",
        "outputId": "939c3495-1931-4608-8c25-2c9be0ad4da4"
      },
      "execution_count": 21,
      "outputs": [
        {
          "output_type": "stream",
          "name": "stdout",
          "text": [
            "Enter a string : assignment\n",
            "Enter a character/ letter: g\n",
            "The letter 'g'appears in the string 'assignment'.\n"
          ]
        }
      ]
    },
    {
      "cell_type": "markdown",
      "source": [
        "(b) Without using the count method, write a program that asks the user for a string and a letter and counts how many occurrences there are of the letter in the string.\n"
      ],
      "metadata": {
        "id": "ScMcBLXUxoHk"
      }
    },
    {
      "cell_type": "code",
      "source": [
        "user_string1 = input(\"Enter a string : \")\n",
        "letter1 = input(\"Enter a character/ letter: \")\n",
        "frequency = 0\n",
        "for i in user_string1:\n",
        "  if i == letter1:\n",
        "    frequency += 1\n",
        "print(f\"The letter '{letter1}' occurs {frequency} times in the string '{user_string1}'.\")"
      ],
      "metadata": {
        "colab": {
          "base_uri": "https://localhost:8080/"
        },
        "id": "AEHMzUNo2xMZ",
        "outputId": "e2d9fcf2-456e-4547-f6a7-e3d2abcfc811"
      },
      "execution_count": 72,
      "outputs": [
        {
          "output_type": "stream",
          "name": "stdout",
          "text": [
            "Enter a string : assalamwalaikkum\n",
            "Enter a character/ letter: a\n",
            "The letter 'a' occurs 5 times in the string 'assalamwalaikkum'.\n"
          ]
        }
      ]
    },
    {
      "cell_type": "markdown",
      "source": [
        "(c) Without using the index method, write a program that asks the user for a string and a\n",
        "letter and prints out the index of the first occurrence of the letter in the string. If the letter is\n",
        "not in the string, the program should say so."
      ],
      "metadata": {
        "id": "U4NnO9FL2zwy"
      }
    },
    {
      "cell_type": "code",
      "source": [
        "user_string2 = input(\"Enter a string : \")\n",
        "letter2 = input(\"Enter a character/ letter: \")\n",
        "unique_string = ''\n",
        "index1= 0\n",
        "for i in range(len(user_string2)):\n",
        "  if user_string2[i] == letter2 and user_string2[i] not in unique_string:\n",
        "    unique_string += user_string2[i]\n",
        "    index1 += i\n",
        "if unique_string:\n",
        "  print(f\"The letter '{letter2}' is in the string '{user_string2}' and occurs at {index1} position for the first time\")\n",
        "else:\n",
        "  print(f\"The letter '{letter2}' is NOT in the string '{user_string2}'.\")"
      ],
      "metadata": {
        "colab": {
          "base_uri": "https://localhost:8080/"
        },
        "id": "id0eQz9F5hBi",
        "outputId": "eec1c33f-fe21-4953-f6b9-535df313cd28"
      },
      "execution_count": 49,
      "outputs": [
        {
          "output_type": "stream",
          "name": "stdout",
          "text": [
            "Enter a string : akasham\n",
            "Enter a character/ letter: a\n",
            "The letter 'a' is in the string 'akasham' and occurs at 0 position for the first time\n"
          ]
        }
      ]
    },
    {
      "cell_type": "markdown",
      "source": [
        "#14. Finding a substring within a string\n",
        "For example, if we were presented a series of lines formatted as follows:\n",
        "From stephen.marquard@uct.ac.za Sat Jan 5 09:14:16 2008\n",
        "and we wanted to pull out only the second half of the address (i.e., uct.ac.za)"
      ],
      "metadata": {
        "id": "AjBns9GPDqkE"
      }
    },
    {
      "cell_type": "markdown",
      "source": [
        "method 2: using split() function in strings"
      ],
      "metadata": {
        "id": "TQnQugnvbCkh"
      }
    },
    {
      "cell_type": "code",
      "source": [
        "series = input(\"Enter the string: \").split()\n",
        "address=series[0].split('@')\n",
        "print(f\"The address is {address[1]}\")"
      ],
      "metadata": {
        "colab": {
          "base_uri": "https://localhost:8080/"
        },
        "id": "ERf0nJZbDrij",
        "outputId": "4eddc3e5-f76b-4de4-8610-3088822c2026"
      },
      "execution_count": 57,
      "outputs": [
        {
          "output_type": "stream",
          "name": "stdout",
          "text": [
            "Enter the the string: stephen.marquard@uct.ac.za Sat Jan 5 09:14:16 2008\n",
            "The address is uct.ac.za\n"
          ]
        }
      ]
    },
    {
      "cell_type": "markdown",
      "source": [
        "method 2: using find() function to slice the entire the string"
      ],
      "metadata": {
        "id": "B_D0uoirZ2KZ"
      }
    },
    {
      "cell_type": "code",
      "source": [
        "series2 = input(\"Enter the string: \")\n",
        "company_index = series2.find(\"@\")\n",
        "after_index = series2.find(' ', company_index, )\n",
        "print(f\"The company address is '{series2[company_index+1: after_index]}'.\")"
      ],
      "metadata": {
        "colab": {
          "base_uri": "https://localhost:8080/"
        },
        "id": "DsC-6Oq5Z7Bu",
        "outputId": "47f63b44-7c1b-44ce-f0cc-ec6f8af80ac8"
      },
      "execution_count": 63,
      "outputs": [
        {
          "output_type": "stream",
          "name": "stdout",
          "text": [
            "Enter the string: stephen.marquard@uct.ac.za Sat Jan 5 09:14:16 2008\n",
            "The company address is 'uct.ac.za'.\n"
          ]
        }
      ]
    },
    {
      "cell_type": "markdown",
      "source": [
        "#15. Write a Python program to add 'ing' at the end of a given string (length should be at least 3). If the given string already ends with 'ing' then add 'ily' instead. If the string length of the given string is less than 3, leave it unchanged.\n",
        "Go to the editor\n",
        "Sample String : &#39;abc&#39;\n",
        "Expected Result : &#39;abcing&#39;\n",
        "Sample String : &#39;string&#39;\n",
        "Expected Result : &#39;stringly&#39;"
      ],
      "metadata": {
        "id": "YNQZxrUTbOti"
      }
    },
    {
      "cell_type": "code",
      "source": [
        "string3 = input(\"Enter a string of minimum length 3: \")\n",
        "if len(string3) >= 3:\n",
        "  if string3.endswith('ing'):\n",
        "    string3 += 'ly'\n",
        "  else:\n",
        "    string3 += 'ing'\n",
        "else:\n",
        "  string3\n",
        "string3"
      ],
      "metadata": {
        "colab": {
          "base_uri": "https://localhost:8080/",
          "height": 53
        },
        "id": "orJbcDXFbPlm",
        "outputId": "9c895700-9556-4c49-e7a4-1786cc621279"
      },
      "execution_count": 74,
      "outputs": [
        {
          "name": "stdout",
          "output_type": "stream",
          "text": [
            "Enter a string of minimum length 3: string\n"
          ]
        },
        {
          "output_type": "execute_result",
          "data": {
            "text/plain": [
              "'stringly'"
            ],
            "application/vnd.google.colaboratory.intrinsic+json": {
              "type": "string"
            }
          },
          "metadata": {},
          "execution_count": 74
        }
      ]
    },
    {
      "cell_type": "markdown",
      "source": [
        "#16. Take the following Python code that stores a string:\n",
        "string = &#39;X-DSPAM-Confidence: 0.8475&#39;\n",
        "Extract the portion of the string after the colon character and then use the float function to convert\n",
        "the extracted string into a floating point number."
      ],
      "metadata": {
        "id": "dRG9LGYVcsX-"
      }
    },
    {
      "cell_type": "code",
      "source": [
        "string4 = 'X-DSPAM-Confidence: 0.8475'\n",
        "float(string4.split(\":\")[1])"
      ],
      "metadata": {
        "colab": {
          "base_uri": "https://localhost:8080/"
        },
        "id": "ywuAQr69ctQ7",
        "outputId": "28f39d3d-b1b9-44e3-c3f5-afa88061621c"
      },
      "execution_count": 70,
      "outputs": [
        {
          "output_type": "execute_result",
          "data": {
            "text/plain": [
              "0.8475"
            ]
          },
          "metadata": {},
          "execution_count": 70
        }
      ]
    }
  ]
}